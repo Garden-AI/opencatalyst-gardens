{
  "nbformat": 4,
  "nbformat_minor": 0,
  "metadata": {
    "colab": {
      "provenance": []
    },
    "kernelspec": {
      "name": "python3",
      "display_name": "Python 3"
    },
    "language_info": {
      "name": "python"
    }
  },
  "cells": [
    {
      "cell_type": "markdown",
      "source": [
        "# FAIR-Chem / Open Catalsyt Project Garden\n",
        "\n",
        "This tutorial demonstrates how Garden can be used ro run pre-trained models from the FAIR-Chem project,\n",
        "trained on the Open Catalyst Project's OC20 dataset. These models can predict atomic\n",
        "structure relaxation and other properties relevant to catalysis research."
      ],
      "metadata": {
        "id": "9KDUrxDwUuvX"
      }
    },
    {
      "cell_type": "markdown",
      "source": [
        "## Background\n",
        "\n",
        "The Open Catalyst Project (OC20) is a large-scale dataset of DFT calculations for\n",
        "catalyst surface reactions. The FAIR-Chem project provides state-of-the-art models\n",
        "trained on this data to accelerate catalyst discovery."
      ],
      "metadata": {
        "id": "rlYGVJF4oie7"
      }
    },
    {
      "cell_type": "markdown",
      "source": [
        "## Setup\n",
        "\n",
        "First, let's install the required packages:\n",
        "- `garden-ai`: Interface with Garden services (https://github.com/Garden-AI/garden)\n",
        "- `ase`: Atomic Simulation Environment for building structures\n",
        "- `matplotlib`: Visualization tools"
      ],
      "metadata": {
        "id": "7uxAM_ixooPe"
      }
    },
    {
      "cell_type": "code",
      "execution_count": null,
      "metadata": {
        "collapsed": true,
        "id": "GFzGTfk4JbKW"
      },
      "outputs": [],
      "source": [
        "!pip install garden-ai ase matplotlib"
      ]
    },
    {
      "cell_type": "markdown",
      "source": [
        "## Import Dependencies"
      ],
      "metadata": {
        "id": "K3GX1MDzovVW"
      }
    },
    {
      "cell_type": "code",
      "source": [
        "from ase import Atoms\n",
        "from ase.build import fcc111, add_adsorbate\n",
        "import matplotlib.pyplot as plt\n",
        "from ase.visualize.plot import plot_atoms"
      ],
      "metadata": {
        "id": "eFivxsQ-J7yz"
      },
      "execution_count": null,
      "outputs": []
    },
    {
      "cell_type": "markdown",
      "source": [
        "## Helper Functions\n",
        "\n",
        "These functions help us create and visualize atomic structures, and run model predictions.\n"
      ],
      "metadata": {
        "id": "SHQJnOsOo0x4"
      }
    },
    {
      "cell_type": "code",
      "source": [
        "def create_test_structure(metal: str = 'Pt', adsorbate: str = 'O') -> Atoms:\n",
        "    \"\"\"Create a test surface-adsorbate structure.\n",
        "\n",
        "    Args:\n",
        "        metal: Chemical symbol of the metal surface (default: 'Pt')\n",
        "        adsorbate: Chemical symbol of the adsorbate (default: 'O')\n",
        "\n",
        "    Returns:\n",
        "        ASE Atoms object representing the structure\n",
        "    \"\"\"\n",
        "    # Create an FCC(111) surface with 5 layers and 10Å vacuum\n",
        "    slab = fcc111(metal, size=(2, 2, 5), vacuum=10.0)\n",
        "    # Add the adsorbate at an FCC hollow site\n",
        "    add_adsorbate(slab, adsorbate, height=2.5, position='fcc')\n",
        "    return slab\n",
        "\n",
        "def visualize_structure(atoms: Atoms, title: str | None = None) -> None:\n",
        "    \"\"\"Visualize an atomic structure from two angles.\n",
        "\n",
        "    Args:\n",
        "        atoms: ASE Atoms object to visualize\n",
        "        title: Optional title for the plot\n",
        "    \"\"\"\n",
        "    fig, axs = plt.subplots(1, 2, figsize=(12, 5))\n",
        "    # Top view\n",
        "    plot_atoms(atoms, axs[0])\n",
        "    axs[0].set_title(\"Top View\")\n",
        "    # Side view\n",
        "    plot_atoms(atoms, axs[1], rotation=('-90x'))\n",
        "    axs[1].set_title(\"Side View\")\n",
        "\n",
        "    axs[0].set_axis_off()\n",
        "    axs[1].set_axis_off()\n",
        "\n",
        "    if title:\n",
        "        fig.suptitle(title, fontsize=14, y=1.05)\n",
        "    plt.tight_layout()\n",
        "    plt.show()"
      ],
      "metadata": {
        "id": "rhy1tGHfo-FO"
      },
      "execution_count": null,
      "outputs": []
    },
    {
      "cell_type": "markdown",
      "source": [
        "## Create Initial Structure\n",
        "\n",
        "Let's create a test structure with a Platinum surface and an Oxygen adsorbate.\n",
        "This represents a typical catalytic system where we want to understand how oxygen\n",
        "interacts with a platinum surface."
      ],
      "metadata": {
        "id": "u5MYrpPTM1Oi"
      }
    },
    {
      "cell_type": "code",
      "source": [
        "slab = create_test_structure()\n",
        "visualize_structure(slab, \"Initial Structure: Pt(111) surface with O adsorbate\")"
      ],
      "metadata": {
        "id": "4qUxAHPPKLJf"
      },
      "execution_count": null,
      "outputs": []
    },
    {
      "cell_type": "markdown",
      "source": [
        "## Connect to Garden\n",
        "\n",
        "Now we'll connect to the Garden service using Globus authentication.\n",
        "Follow the link provided and paste the access code when prompted."
      ],
      "metadata": {
        "id": "snbsCnR1O13_"
      }
    },
    {
      "cell_type": "code",
      "source": [
        "from garden_ai import GardenClient\n",
        "gc = GardenClient()"
      ],
      "metadata": {
        "collapsed": true,
        "id": "t1FisGV_Jpw1"
      },
      "execution_count": null,
      "outputs": []
    },
    {
      "cell_type": "markdown",
      "source": [
        "## Access FAIR-Chem Models via Garden\n",
        "\n",
        "This [Garden](https://thegardens.ai/#/garden/10.26311%2Ftctw-zq69) contains several state-of-the-art models. We'll access it using its DOI: `10.26311/tctw-zq69`"
      ],
      "metadata": {
        "id": "z-InDtlTtPPF"
      }
    },
    {
      "cell_type": "code",
      "source": [
        "garden_doi = \"10.26311/tctw-zq69\"\n",
        "fairchem_oc20 = gc.get_garden(garden_doi)"
      ],
      "metadata": {
        "id": "3gTZagdvOvR4"
      },
      "execution_count": null,
      "outputs": []
    },
    {
      "cell_type": "markdown",
      "source": [
        "## Run Predictions with EquiformerV2\n",
        "\n",
        "Let's start with the EquiformerV2_S2EF model. This is a transformer-based model that predicts:\n",
        "1. The relaxed atomic structure\n",
        "2. The forces on each atom\n",
        "\n",
        "First, we'll convert our atomic structure to a format the model can understand:"
      ],
      "metadata": {
        "id": "DOCjw9Y5ttqs"
      }
    },
    {
      "cell_type": "code",
      "source": [
        "# Convert our structure to a dictionary for remote execution\n",
        "structure_dict = slab.todict()"
      ],
      "metadata": {
        "id": "p5RtYArXt4bm"
      },
      "execution_count": null,
      "outputs": []
    },
    {
      "cell_type": "code",
      "source": [
        "# Run the prediction with EquiformerV2\n",
        "result = fairchem_oc20.EquiformerV2_S2EF.predict(structure_dict)\n",
        "result"
      ],
      "metadata": {
        "id": "REbEx4VVuCWQ"
      },
      "execution_count": null,
      "outputs": []
    },
    {
      "cell_type": "code",
      "source": [
        "# Convert the resulting structure back to Atoms\n",
        "optimized_slab = Atoms.fromdict(result[\"structure\"])"
      ],
      "metadata": {
        "id": "ausfx2iJuN73"
      },
      "execution_count": null,
      "outputs": []
    },
    {
      "cell_type": "code",
      "source": [
        "# Visualize the optimized structure\n",
        "visualize_structure(\n",
        "    optimized_slab,\n",
        "    \"EquiformerV2 Optimized Structure\"\n",
        ")"
      ],
      "metadata": {
        "id": "RFQj-uOFuVgF"
      },
      "execution_count": null,
      "outputs": []
    },
    {
      "cell_type": "markdown",
      "source": [
        "## Try Another Model: DimeNet++\n",
        "\n",
        "Now let's try the DimeNetPP_S2EF model. This model uses a different architecture\n",
        "(message-passing neural networks) but predicts the same properties.\n",
        "\n",
        "We can reuse our same input structure:"
      ],
      "metadata": {
        "id": "gPQ9KN53S6ZF"
      }
    },
    {
      "cell_type": "code",
      "source": [
        "result = fairchem_oc20.DimeNetPP_S2EF.predict(structure_dict)\n",
        "result"
      ],
      "metadata": {
        "id": "VvfwEI8jTB6Q"
      },
      "execution_count": null,
      "outputs": []
    },
    {
      "cell_type": "code",
      "source": [
        "# Visualize the optimized structure\n",
        "visualize_structure(\n",
        "    optimized_slab,\n",
        "    \"DimeNet++ Optimized Structure\"\n",
        ")"
      ],
      "metadata": {
        "id": "yqjx4kG-TRk0"
      },
      "execution_count": null,
      "outputs": []
    },
    {
      "cell_type": "markdown",
      "source": [
        "## Run Batch Predictions\n",
        "\n",
        "The models in this Garden also accept a batch of atomic structures."
      ],
      "metadata": {
        "id": "kDctZrnDwneR"
      }
    },
    {
      "cell_type": "code",
      "source": [
        "structures = [create_test_structure().todict() for _ in range(5)]\n",
        "\n",
        "# Use eSCN for this run\n",
        "results = fairchem_oc20.ESCN_S2EF.predict(structures)\n",
        "results"
      ],
      "metadata": {
        "collapsed": true,
        "id": "gr3yE3svw4aa"
      },
      "execution_count": null,
      "outputs": []
    }
  ]
}